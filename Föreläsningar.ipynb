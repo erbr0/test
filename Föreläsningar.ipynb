{
 "cells": [
  {
   "cell_type": "code",
   "execution_count": 3,
   "metadata": {},
   "outputs": [
    {
     "name": "stdout",
     "output_type": "stream",
     "text": [
      "\n",
      "\n",
      "\n",
      "Lopunny har mer HP än Dunsparce\n",
      "False \n",
      "\n",
      "Lopunny har mer Att än Dunsparce\n",
      "False \n",
      "\n",
      "Första pokemon du kommer möta är: Dunsparce -HP: 100 -Att: 70 -Type: Normal -Weight: 14.0 kG\n",
      "\n",
      "Gymlistan består utav:\n",
      "Dunsparce -HP: 100 -Att: 70 -Type: Normal -Weight: 14.0 kG\n",
      "Celebi -HP: 100 -Att: 100 -Type: Psychic -Weight: 5.0 kG\n",
      "Solosis -HP: 45 -Att: 30 -Type: Psychic -Weight: 1.0 kG\n",
      "Magnemite -HP: 25 -Att: 35 -Type: Electric -Weight: 6.0 kG\n",
      "Lopunny -HP: 65 -Att: 76 -Type: Normal -Weight: 33.3 kG\n",
      "solosis söks nu efter\n",
      "solosis fanns ej\n"
     ]
    }
   ],
   "source": []
  }
 ],
 "metadata": {
  "kernelspec": {
   "display_name": "Python 3",
   "language": "python",
   "name": "python3"
  },
  "language_info": {
   "codemirror_mode": {
    "name": "ipython",
    "version": 3
   },
   "file_extension": ".py",
   "mimetype": "text/x-python",
   "name": "python",
   "nbconvert_exporter": "python",
   "pygments_lexer": "ipython3",
   "version": "3.7.4"
  },
  "orig_nbformat": 4,
  "vscode": {
   "interpreter": {
    "hash": "aee8b7b246df8f9039afb4144a1f6fd8d2ca17a180786b69acc140d282b71a49"
   }
  }
 },
 "nbformat": 4,
 "nbformat_minor": 2
}
